{
 "cells": [
  {
   "cell_type": "code",
   "execution_count": 2,
   "metadata": {},
   "outputs": [],
   "source": [
    "import sympy as sp"
   ]
  },
  {
   "cell_type": "code",
   "execution_count": 11,
   "metadata": {},
   "outputs": [],
   "source": [
    "x=sp.symbols('x')\n",
    "y=sp.Function('y')(x)"
   ]
  },
  {
   "cell_type": "markdown",
   "metadata": {},
   "source": [
    "General Solution"
   ]
  },
  {
   "cell_type": "code",
   "execution_count": 12,
   "metadata": {},
   "outputs": [
    {
     "data": {
      "text/latex": [
       "$\\displaystyle y{\\left(x \\right)} = C_{1} + \\frac{\\cos{\\left(2 \\pi x \\right)}}{\\pi}$"
      ],
      "text/plain": [
       "Eq(y(x), C1 + cos(2*pi*x)/pi)"
      ]
     },
     "execution_count": 12,
     "metadata": {},
     "output_type": "execute_result"
    }
   ],
   "source": [
    "# Equation a\n",
    "\n",
    "f= sp.Eq(y.diff(x) + 2*sp.sin(2* sp.pi * x),0)\n",
    "general_solution1 = sp.dsolve(f,y)\n",
    "general_solution1"
   ]
  },
  {
   "cell_type": "code",
   "execution_count": 13,
   "metadata": {},
   "outputs": [
    {
     "data": {
      "text/latex": [
       "$\\displaystyle y{\\left(x \\right)} = C_{1} + \\sinh{\\left(x \\right)}$"
      ],
      "text/plain": [
       "Eq(y(x), C1 + sinh(x))"
      ]
     },
     "execution_count": 13,
     "metadata": {},
     "output_type": "execute_result"
    }
   ],
   "source": [
    "# Equation b\n",
    "\n",
    "f=sp.Eq(y.diff(x),sp.cosh(x))\n",
    "general_solution2 = sp.dsolve(f,y)\n",
    "general_solution2"
   ]
  },
  {
   "cell_type": "markdown",
   "metadata": {},
   "source": [
    "Exact Solution"
   ]
  },
  {
   "cell_type": "code",
   "execution_count": 23,
   "metadata": {},
   "outputs": [
    {
     "data": {
      "text/latex": [
       "$\\displaystyle y{\\left(x \\right)} = \\left(x - 4.3\\right) e^{- 2 x^{2}}$"
      ],
      "text/plain": [
       "Eq(y(x), (x - 4.3)*exp(-2*x**2))"
      ]
     },
     "execution_count": 23,
     "metadata": {},
     "output_type": "execute_result"
    }
   ],
   "source": [
    "# Equation a\n",
    "x=sp.symbols('x')\n",
    "y=sp.Function('y')(x)\n",
    "\n",
    "f=sp.Eq( y.diff(x) + 4*x*y, sp.exp(-2*x**2))\n",
    "bcs = {y.subs(x,0): -4.3}\n",
    "exact_solution_a=sp.dsolve(f ,y , ics=bcs)\n",
    "exact_solution_a"
   ]
  },
  {
   "cell_type": "code",
   "execution_count": 28,
   "metadata": {},
   "outputs": [
    {
     "data": {
      "text/latex": [
       "$\\displaystyle 0.377964473009227 \\sqrt{- \\frac{1}{- e^{x} - 0.285714285714286}}$"
      ],
      "text/plain": [
       "0.377964473009227*sqrt(-1/(-exp(x) - 0.285714285714286))"
      ]
     },
     "execution_count": 28,
     "metadata": {},
     "output_type": "execute_result"
    }
   ],
   "source": [
    "# Equation b\n",
    "x=sp.symbols('x')\n",
    "y=sp.Function('y')(x)\n",
    "\n",
    "f=sp.Eq( y.diff(x) + y/2 , y**3)\n",
    "bcs={y.subs(x,0):1/3}\n",
    "exact_solution_b=sp.dsolve(f,y, ics=bcs)\n",
    "ans=exact_solution_b.rhs\n",
    "ans"
   ]
  }
 ],
 "metadata": {
  "kernelspec": {
   "display_name": "Python 3",
   "language": "python",
   "name": "python3"
  },
  "language_info": {
   "codemirror_mode": {
    "name": "ipython",
    "version": 3
   },
   "file_extension": ".py",
   "mimetype": "text/x-python",
   "name": "python",
   "nbconvert_exporter": "python",
   "pygments_lexer": "ipython3",
   "version": "3.11.2"
  }
 },
 "nbformat": 4,
 "nbformat_minor": 2
}
